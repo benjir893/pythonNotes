{
 "cells": [
  {
   "cell_type": "code",
   "execution_count": null,
   "id": "2c205250",
   "metadata": {},
   "outputs": [],
   "source": [
    "import streamlit as st\n",
    "\n",
    "st.set_page_config(pagetitle = \"my page\", pageicon = \":tada:\", layout = \"wide\")\n",
    "st.subheader(\"hi some thing :wave:\")\n",
    "st.title(\"A data analyst something\")\n",
    "st.write(\"python jupyter and something....something ,,,,something\")\n",
    "st.write(\"[learn more >](http://python.org)\")"
   ]
  }
 ],
 "metadata": {
  "kernelspec": {
   "display_name": "Python 3 (ipykernel)",
   "language": "python",
   "name": "python3"
  },
  "language_info": {
   "codemirror_mode": {
    "name": "ipython",
    "version": 3
   },
   "file_extension": ".py",
   "mimetype": "text/x-python",
   "name": "python",
   "nbconvert_exporter": "python",
   "pygments_lexer": "ipython3",
   "version": "3.11.3"
  }
 },
 "nbformat": 4,
 "nbformat_minor": 5
}
