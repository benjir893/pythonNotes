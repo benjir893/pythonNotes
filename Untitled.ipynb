{
 "cells": [
  {
   "cell_type": "code",
   "execution_count": 10,
   "id": "e5cb9982",
   "metadata": {},
   "outputs": [
    {
     "name": "stdout",
     "output_type": "stream",
     "text": [
      "<class 'int'>\n"
     ]
    }
   ],
   "source": [
    "a = 10\n",
    "print(type(a))"
   ]
  },
  {
   "cell_type": "code",
   "execution_count": 4,
   "id": "b0fa4dd1",
   "metadata": {},
   "outputs": [
    {
     "name": "stdout",
     "output_type": "stream",
     "text": [
      "benjir\n"
     ]
    }
   ],
   "source": [
    "a = \"benjir\"\n",
    "print(a)"
   ]
  },
  {
   "cell_type": "code",
   "execution_count": 6,
   "id": "524232a9",
   "metadata": {},
   "outputs": [
    {
     "ename": "SyntaxError",
     "evalue": "invalid syntax. Perhaps you forgot a comma? (2021113655.py, line 1)",
     "output_type": "error",
     "traceback": [
      "\u001b[1;36m  Cell \u001b[1;32mIn[6], line 1\u001b[1;36m\u001b[0m\n\u001b[1;33m    name = input(enter your name :)\u001b[0m\n\u001b[1;37m                 ^\u001b[0m\n\u001b[1;31mSyntaxError\u001b[0m\u001b[1;31m:\u001b[0m invalid syntax. Perhaps you forgot a comma?\n"
     ]
    }
   ],
   "source": [
    "name = input(enter your name :)\n",
    "print(name)"
   ]
  },
  {
   "cell_type": "code",
   "execution_count": 29,
   "id": "ac938ffa",
   "metadata": {},
   "outputs": [
    {
     "name": "stdout",
     "output_type": "stream",
     "text": [
      "enter your name : benjir\n",
      "my name is benjir\n"
     ]
    }
   ],
   "source": [
    "name = input(\"enter your name : \")\n",
    "a =\"my name is \"\n",
    "result = a + name\n",
    "print(result)"
   ]
  },
  {
   "cell_type": "code",
   "execution_count": 14,
   "id": "55b9ac69",
   "metadata": {},
   "outputs": [
    {
     "name": "stdout",
     "output_type": "stream",
     "text": [
      "enter the first value : 8\n",
      "enter the second value : 5\n",
      "3\n"
     ]
    }
   ],
   "source": [
    "n1 = int(input(\"enter the first value : \"))\n",
    "n2 = int(input(\"enter the second value : \"))\n",
    "result = n1-n2\n",
    "print(result)"
   ]
  },
  {
   "cell_type": "code",
   "execution_count": 15,
   "id": "029ba2e6",
   "metadata": {},
   "outputs": [
    {
     "name": "stdout",
     "output_type": "stream",
     "text": [
      "<class 'float'>\n"
     ]
    }
   ],
   "source": [
    "a = 1.454545454454\n",
    "print(type(a))"
   ]
  },
  {
   "cell_type": "code",
   "execution_count": 18,
   "id": "c85c1b3a",
   "metadata": {},
   "outputs": [
    {
     "name": "stdout",
     "output_type": "stream",
     "text": [
      "ython p\n"
     ]
    }
   ],
   "source": [
    "a =\"python programming\"\n",
    "print(a[1:8])"
   ]
  },
  {
   "cell_type": "code",
   "execution_count": 21,
   "id": "01db59ba",
   "metadata": {},
   "outputs": [
    {
     "name": "stdout",
     "output_type": "stream",
     "text": [
      "ython pr\n"
     ]
    }
   ],
   "source": [
    "a = \"python programming\"\n",
    "print(a[1:9:1]) # [start:end:skip] here skip one letter/character."
   ]
  },
  {
   "cell_type": "code",
   "execution_count": 22,
   "id": "53ca11a0",
   "metadata": {},
   "outputs": [
    {
     "name": "stdout",
     "output_type": "stream",
     "text": [
      "yhnp\n"
     ]
    }
   ],
   "source": [
    "a = \"python programming\"\n",
    "print(a[1:9:2]) #here skipping 2 characters"
   ]
  },
  {
   "cell_type": "code",
   "execution_count": 24,
   "id": "9bf724d8",
   "metadata": {},
   "outputs": [
    {
     "name": "stdout",
     "output_type": "stream",
     "text": [
      "ogramming\n"
     ]
    }
   ],
   "source": [
    "a = \"python programming\"\n",
    "print(a[9:18])"
   ]
  },
  {
   "cell_type": "code",
   "execution_count": 27,
   "id": "dcce0b49",
   "metadata": {},
   "outputs": [
    {
     "name": "stdout",
     "output_type": "stream",
     "text": [
      "g\n"
     ]
    }
   ],
   "source": [
    "a = \"python programming\"\n",
    "print(a[17]) #printing last string"
   ]
  },
  {
   "cell_type": "code",
   "execution_count": 30,
   "id": "148f777f",
   "metadata": {},
   "outputs": [
    {
     "name": "stdout",
     "output_type": "stream",
     "text": [
      "g\n"
     ]
    }
   ],
   "source": [
    "a = \"python programming\"\n",
    "print(a[-1]) # same with previous but another way."
   ]
  },
  {
   "cell_type": "code",
   "execution_count": 34,
   "id": "e91eeea9",
   "metadata": {},
   "outputs": [
    {
     "name": "stdout",
     "output_type": "stream",
     "text": [
      "105 15\n"
     ]
    }
   ],
   "source": [
    "a =\"10\"\n",
    "b = \"5\"\n",
    "a1 =10\n",
    "b1 = 5\n",
    "result = a+b\n",
    "result1 = a1+b1\n",
    "\n",
    "print(result, result1)"
   ]
  }
 ],
 "metadata": {
  "kernelspec": {
   "display_name": "Python 3 (ipykernel)",
   "language": "python",
   "name": "python3"
  },
  "language_info": {
   "codemirror_mode": {
    "name": "ipython",
    "version": 3
   },
   "file_extension": ".py",
   "mimetype": "text/x-python",
   "name": "python",
   "nbconvert_exporter": "python",
   "pygments_lexer": "ipython3",
   "version": "3.11.3"
  }
 },
 "nbformat": 4,
 "nbformat_minor": 5
}
